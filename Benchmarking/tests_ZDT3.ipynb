{
 "cells": [
  {
   "cell_type": "code",
   "execution_count": 1,
   "metadata": {},
   "outputs": [],
   "source": [
    "%load_ext autoreload\n",
    "%autoreload 1"
   ]
  },
  {
   "cell_type": "code",
   "execution_count": 2,
   "metadata": {},
   "outputs": [],
   "source": [
    "%aimport ooaga_tests\n",
    "%aimport ooamaga_zdt3\n",
    "%aimport ooPMOT_tests"
   ]
  },
  {
   "cell_type": "code",
   "execution_count": 31,
   "metadata": {},
   "outputs": [],
   "source": [
    "import numpy as np\n",
    "import math\n",
    "\n",
    "import matplotlib.pyplot as plt\n",
    "\n",
    "from ooaga_tests import aga\n",
    "from ooamaga_zdt3 import amaga\n",
    "from ooamaga_zdt3 import mgbase\n",
    "from ooPMOT_tests import basePMOT"
   ]
  },
  {
   "cell_type": "code",
   "execution_count": 21,
   "metadata": {},
   "outputs": [],
   "source": [
    "#def fitness_optimal(x):\n",
    "#    g = 1 # + 9 * sum(x[1:]) / (len(x) - 1)\n",
    "#    f1 = x[0]\n",
    "#    f2 = g * (1 - (x[0] / g)**2)\n",
    "#    f = [f1, f2]\n",
    "#    return f"
   ]
  },
  {
   "cell_type": "code",
   "execution_count": 20,
   "metadata": {},
   "outputs": [
    {
     "name": "stdout",
     "output_type": "stream",
     "text": [
      "6\n"
     ]
    }
   ],
   "source": [
    "a= [0, 2, 4]\n",
    "b = np.sum(a[1:])\n",
    "print(b)"
   ]
  },
  {
   "cell_type": "code",
   "execution_count": 20,
   "metadata": {},
   "outputs": [],
   "source": [
    "def fitness_optimal(x):\n",
    "    sum1 = 0\n",
    "    sum2 = 0\n",
    "    for i in range(len(x)):\n",
    "        sum1 += (x[i] - 1/np.sqrt(3))**2\n",
    "        sum2 += (x[i] + 1/np.sqrt(3))**2\n",
    "    f1 = 1 - np.exp(-sum1)\n",
    "    f2 = 1 - np.exp(-sum2)\n",
    "    f = [f1, f2]\n",
    "    return f"
   ]
  },
  {
   "cell_type": "code",
   "execution_count": 23,
   "metadata": {},
   "outputs": [
    {
     "name": "stdout",
     "output_type": "stream",
     "text": [
      "[[-0.03798792 -0.03798792 -0.03798792]\n",
      " [-0.01844206 -0.01844206 -0.01844206]\n",
      " [-0.10555988 -0.10555988 -0.10555988]\n",
      " ...\n",
      " [-0.0611606  -0.0611606  -0.0611606 ]\n",
      " [ 0.14734045  0.14734045  0.14734045]\n",
      " [-0.0095396  -0.0095396  -0.0095396 ]]\n"
     ]
    },
    {
     "data": {
      "image/png": "[encoded data removed]",
      "text/plain": [
       "<Figure size 640x480 with 1 Axes>"
      ]
     },
     "metadata": {},
     "output_type": "display_data"
    }
   ],
   "source": [
    "optim = np.random.uniform(- 1/np.sqrt(3), 1/np.sqrt(3), (5000, 3))\n",
    "for i in range(len(optim)):\n",
    "    optim[i][1] = optim[i][0]\n",
    "    optim[i][2] = optim[i][0]\n",
    "print(optim)\n",
    "pareto_optimal = [0] * len(optim)\n",
    "for i in range(len(optim)):\n",
    "    pareto_optimal[i] = fitness_optimal(x=optim[i])\n",
    "    plt.plot(pareto_optimal[i][0], pareto_optimal[i][1], 'o', color = 'r', markersize = 1.5)\n",
    "\n",
    "plt.ylim([0.0, 1.0])\n",
    "plt.grid(True, 'major')\n",
    "plt.show()"
   ]
  },
  {
   "cell_type": "code",
   "execution_count": 24,
   "metadata": {},
   "outputs": [
    {
     "data": {
      "text/plain": [
       "array([-3.35880659,  0.54521258, -0.58664154])"
      ]
     },
     "execution_count": 24,
     "metadata": {},
     "output_type": "execute_result"
    }
   ],
   "source": [
    "np.random.uniform(- 4, 4, 3)"
   ]
  },
  {
   "cell_type": "code",
   "execution_count": 32,
   "metadata": {},
   "outputs": [
    {
     "name": "stdout",
     "output_type": "stream",
     "text": [
      "aga run options: ne= 40 nm= 72 nd= 248 nn= 40 nCanMutate= 60 nCanProcreate= 60\n",
      "Iteration: 0\n",
      "Front Size: 296\n",
      "M2: 62.277966101694915\n",
      "Front Spread: 1.3997760748745487\n",
      "Convergence Metric: 0.00027170391865256633\n",
      "-------------------\n",
      "aga run options: ne= 40 nm= 72 nd= 248 nn= 40 nCanMutate= 60 nCanProcreate= 60\n",
      "Iteration: 1\n",
      "Front Size: 308\n",
      "M2: 78.52117263843648\n",
      "Front Spread: 1.4003280967678213\n",
      "Convergence Metric: 0.00028156462092481616\n",
      "-------------------\n",
      "aga run options: ne= 40 nm= 72 nd= 248 nn= 40 nCanMutate= 60 nCanProcreate= 60\n",
      "Iteration: 2\n",
      "Front Size: 302\n",
      "M2: 59.730897009966775\n",
      "Front Spread: 1.399735413425951\n",
      "Convergence Metric: 0.0002737189681087474\n",
      "-------------------\n"
     ]
    }
   ],
   "source": [
    "np.random.seed(1234)\n",
    "\n",
    "#q.setVector(np.array([0,1]))\n",
    "p = 62\n",
    "for i in range(3):\n",
    "    q=mgbase(np.random.uniform(- 4, 4, 3))\n",
    "    q.setRanRange(-4, 4)\n",
    "    #print(q.fitFun())\n",
    "    mymaga=amaga(q, 400)\n",
    "    mymaga.setOption('nd', int(mymaga.getPopulationSize() * p/100))\n",
    "    mymaga.setOption('ne', 40)\n",
    "    mymaga.setOption('nn', 40)\n",
    "    mymaga.setOption('nm', int((mymaga.getPopulationSize() * (0.8 - p/100))))\n",
    "    mymaga.setOption('nCanMutate', 60)\n",
    "    mymaga.setOption('nCanProcreate', 60)\n",
    "    mymaga.printOptions()\n",
    "    for q in range(40):\n",
    "        #print('q=',q)\n",
    "        mymaga.evalFitness(ng = q)\n",
    "        mymaga.buildFronts()\n",
    "        #mymaga.sortByFronts()\n",
    "        mymaga.buildCrowds()\n",
    "        mymaga.sortByCrowds()\n",
    "        #mymaga.mutateDegenerates(q)\n",
    "        #mymaga.printStatus()\n",
    "        #mymaga.plotPopulation2d().\n",
    "        mymaga.repopulate(q)\n",
    "\n",
    "    mymaga.buildFronts()\n",
    "    #mymaga.sortByFronts()\n",
    "    mymaga.buildCrowds()\n",
    "    mymaga.sortByCrowds()\n",
    "    front_size = mymaga.getFrontSize(0)\n",
    "    m2 = mymaga.metricM2(0.5)\n",
    "    front_spread = mymaga.frontSpread()\n",
    "    convergence_metric = mymaga.convergenceMetric(pareto_optimal=pareto_optimal)\n",
    "\n",
    "    print(f'Iteration: {i}')\n",
    "    print(f'Front Size: {front_size}')\n",
    "    print(f'M2: {m2}')\n",
    "    print(f'Front Spread: {front_spread}')\n",
    "    print(f'Convergence Metric: {convergence_metric}')\n",
    "    print('-------------------')\n",
    "    \n",
    "    \n",
    "    #for i in range(len(optim)):\n",
    "    #    plt.plot(pareto_optimal[i][0], pareto_optimal[i][1], 'o', color = 'r', markersize = 1.5)\n",
    "    #plt.plot([], [], 'o', color='r', label='Optimal', markersize=1.5)\n",
    "    ##plt.plot([], [], 'o', color= 'b', label='Pareto Front', markersize=5.0)\n",
    "    #mymaga.plotSatus2d()\n",
    "    #plt.title('FON Test Pareto (Sort By Front)', fontweight='bold')\n",
    "    #plt.xlabel('f1(x)')\n",
    "    #plt.ylabel('f2(x)')\n",
    "    #plt.xlim([0.0, 1.2])\n",
    "    #plt.ylim([0.0, 1.0])\n",
    "    #plt.grid(True, 'major')\n",
    "    #plt.legend()\n",
    "    #plt.savefig(f'same_parameters/paretos/SortByFront_FON_{p}')\n",
    "    #plt.show()"
   ]
  },
  {
   "cell_type": "code",
   "execution_count": 67,
   "metadata": {},
   "outputs": [
    {
     "name": "stdout",
     "output_type": "stream",
     "text": [
      "[0.19487184 0.64576911 0.39148608 0.79269702 0.31594391 0.18882115\n",
      " 0.81584884 0.85931731 0.47201047 0.03750204 0.76442788 0.40819849\n",
      " 0.77343337 0.80816451 0.6480314  0.15087936 0.21230361 0.20068052\n",
      " 0.21912396 0.0054257  0.50261586 0.48595054 0.07501825 0.42783126\n",
      " 0.47522239 0.58579405 0.8191465  0.81256199 0.93214355 0.44079436]\n",
      "14.267143493652046 0.4919704652983464\n"
     ]
    }
   ],
   "source": [
    "a = np.random.rand(30)\n",
    "print(a)\n",
    "total = 0\n",
    "for i in range(1, len(a)):\n",
    "    total = total + a[i]\n",
    "print(total, sum(a[1:]) / (len(a) - 1))"
   ]
  },
  {
   "cell_type": "code",
   "execution_count": 32,
   "metadata": {},
   "outputs": [
    {
     "data": {
      "text/plain": [
       "array([0.01      , 0.01245614, 0.01491228, 0.01736842, 0.01982456,\n",
       "       0.0222807 , 0.02473684, 0.02719298, 0.02964912, 0.03210526,\n",
       "       0.0345614 , 0.03701754, 0.03947368, 0.04192982, 0.04438596,\n",
       "       0.04684211, 0.04929825, 0.05175439, 0.05421053, 0.05666667,\n",
       "       0.05912281, 0.06157895, 0.06403509, 0.06649123, 0.06894737,\n",
       "       0.07140351, 0.07385965, 0.07631579, 0.07877193, 0.08122807,\n",
       "       0.08368421, 0.08614035, 0.08859649, 0.09105263, 0.09350877,\n",
       "       0.09596491, 0.09842105, 0.10087719, 0.10333333, 0.10578947,\n",
       "       0.10824561, 0.11070175, 0.11315789, 0.11561404, 0.11807018,\n",
       "       0.12052632, 0.12298246, 0.1254386 , 0.12789474, 0.13035088,\n",
       "       0.13280702, 0.13526316, 0.1377193 , 0.14017544, 0.14263158,\n",
       "       0.14508772, 0.14754386, 0.15      , 0.15245614, 0.15491228,\n",
       "       0.15736842, 0.15982456, 0.1622807 , 0.16473684, 0.16719298,\n",
       "       0.16964912, 0.17210526, 0.1745614 , 0.17701754, 0.17947368,\n",
       "       0.18192982, 0.18438596, 0.18684211, 0.18929825, 0.19175439,\n",
       "       0.19421053, 0.19666667, 0.19912281, 0.20157895, 0.20403509,\n",
       "       0.20649123, 0.20894737, 0.21140351, 0.21385965, 0.21631579,\n",
       "       0.21877193, 0.22122807, 0.22368421, 0.22614035, 0.22859649,\n",
       "       0.23105263, 0.23350877, 0.23596491, 0.23842105, 0.24087719,\n",
       "       0.24333333, 0.24578947, 0.24824561, 0.25070175, 0.25315789,\n",
       "       0.25561404, 0.25807018, 0.26052632, 0.26298246, 0.2654386 ,\n",
       "       0.26789474, 0.27035088, 0.27280702, 0.27526316, 0.2777193 ,\n",
       "       0.28017544, 0.28263158, 0.28508772, 0.28754386, 0.29      ,\n",
       "       0.29245614, 0.29491228, 0.29736842, 0.29982456, 0.3022807 ,\n",
       "       0.30473684, 0.30719298, 0.30964912, 0.31210526, 0.3145614 ,\n",
       "       0.31701754, 0.31947368, 0.32192982, 0.32438596, 0.32684211,\n",
       "       0.32929825, 0.33175439, 0.33421053, 0.33666667, 0.33912281,\n",
       "       0.34157895, 0.34403509, 0.34649123, 0.34894737, 0.35140351,\n",
       "       0.35385965, 0.35631579, 0.35877193, 0.36122807, 0.36368421,\n",
       "       0.36614035, 0.36859649, 0.37105263, 0.37350877, 0.37596491,\n",
       "       0.37842105, 0.38087719, 0.38333333, 0.38578947, 0.38824561,\n",
       "       0.39070175, 0.39315789, 0.39561404, 0.39807018, 0.40052632,\n",
       "       0.40298246, 0.4054386 , 0.40789474, 0.41035088, 0.41280702,\n",
       "       0.41526316, 0.4177193 , 0.42017544, 0.42263158, 0.42508772,\n",
       "       0.42754386, 0.43      , 0.43245614, 0.43491228, 0.43736842,\n",
       "       0.43982456, 0.4422807 , 0.44473684, 0.44719298, 0.44964912,\n",
       "       0.45210526, 0.4545614 , 0.45701754, 0.45947368, 0.46192982,\n",
       "       0.46438596, 0.46684211, 0.46929825, 0.47175439, 0.47421053,\n",
       "       0.47666667, 0.47912281, 0.48157895, 0.48403509, 0.48649123,\n",
       "       0.48894737, 0.49140351, 0.49385965, 0.49631579, 0.49877193,\n",
       "       0.50122807, 0.50368421, 0.50614035, 0.50859649, 0.51105263,\n",
       "       0.51350877, 0.51596491, 0.51842105, 0.52087719, 0.52333333,\n",
       "       0.52578947, 0.52824561, 0.53070175, 0.53315789, 0.53561404,\n",
       "       0.53807018, 0.54052632, 0.54298246, 0.5454386 , 0.54789474,\n",
       "       0.55035088, 0.55280702, 0.55526316, 0.5577193 , 0.56017544,\n",
       "       0.56263158, 0.56508772, 0.56754386, 0.57      , 0.57245614,\n",
       "       0.57491228, 0.57736842, 0.57982456, 0.5822807 , 0.58473684,\n",
       "       0.58719298, 0.58964912, 0.59210526, 0.5945614 , 0.59701754,\n",
       "       0.59947368, 0.60192982, 0.60438596, 0.60684211, 0.60929825,\n",
       "       0.61175439, 0.61421053, 0.61666667, 0.61912281, 0.62157895,\n",
       "       0.62403509, 0.62649123, 0.62894737, 0.63140351, 0.63385965,\n",
       "       0.63631579, 0.63877193, 0.64122807, 0.64368421, 0.64614035,\n",
       "       0.64859649, 0.65105263, 0.65350877, 0.65596491, 0.65842105,\n",
       "       0.66087719, 0.66333333, 0.66578947, 0.66824561, 0.67070175,\n",
       "       0.67315789, 0.67561404, 0.67807018, 0.68052632, 0.68298246,\n",
       "       0.6854386 , 0.68789474, 0.69035088, 0.69280702, 0.69526316,\n",
       "       0.6977193 , 0.70017544, 0.70263158, 0.70508772, 0.70754386,\n",
       "       0.71      , 0.71245614, 0.71491228, 0.71736842, 0.71982456,\n",
       "       0.7222807 , 0.72473684, 0.72719298, 0.72964912, 0.73210526,\n",
       "       0.7345614 , 0.73701754, 0.73947368, 0.74192982, 0.74438596,\n",
       "       0.74684211, 0.74929825, 0.75175439, 0.75421053, 0.75666667,\n",
       "       0.75912281, 0.76157895, 0.76403509, 0.76649123, 0.76894737,\n",
       "       0.77140351, 0.77385965, 0.77631579, 0.77877193, 0.78122807,\n",
       "       0.78368421, 0.78614035, 0.78859649, 0.79105263, 0.79350877,\n",
       "       0.79596491, 0.79842105, 0.80087719, 0.80333333, 0.80578947,\n",
       "       0.80824561, 0.81070175, 0.81315789, 0.81561404, 0.81807018,\n",
       "       0.82052632, 0.82298246, 0.8254386 , 0.82789474, 0.83035088,\n",
       "       0.83280702, 0.83526316, 0.8377193 , 0.84017544, 0.84263158,\n",
       "       0.84508772, 0.84754386, 0.85      , 0.85245614, 0.85491228,\n",
       "       0.85736842, 0.85982456, 0.8622807 , 0.86473684, 0.86719298,\n",
       "       0.86964912, 0.87210526, 0.8745614 , 0.87701754, 0.87947368,\n",
       "       0.88192982, 0.88438596, 0.88684211, 0.88929825, 0.89175439,\n",
       "       0.89421053, 0.89666667, 0.89912281, 0.90157895, 0.90403509,\n",
       "       0.90649123, 0.90894737, 0.91140351, 0.91385965, 0.91631579,\n",
       "       0.91877193, 0.92122807, 0.92368421, 0.92614035, 0.92859649,\n",
       "       0.93105263, 0.93350877, 0.93596491, 0.93842105, 0.94087719,\n",
       "       0.94333333, 0.94578947, 0.94824561, 0.95070175, 0.95315789,\n",
       "       0.95561404, 0.95807018, 0.96052632, 0.96298246, 0.9654386 ,\n",
       "       0.96789474, 0.97035088, 0.97280702, 0.97526316, 0.9777193 ,\n",
       "       0.98017544, 0.98263158, 0.98508772, 0.98754386, 0.99      ])"
      ]
     },
     "execution_count": 32,
     "metadata": {},
     "output_type": "execute_result"
    }
   ],
   "source": [
    "scale = np.linspace(1, 99, 400)\n",
    "scale/100"
   ]
  }
 ],
 "metadata": {
  "kernelspec": {
   "display_name": "tfm",
   "language": "python",
   "name": "python3"
  },
  "language_info": {
   "codemirror_mode": {
    "name": "ipython",
    "version": 3
   },
   "file_extension": ".py",
   "mimetype": "text/x-python",
   "name": "python",
   "nbconvert_exporter": "python",
   "pygments_lexer": "ipython3",
   "version": "3.10.10"
  }
 },
 "nbformat": 4,
 "nbformat_minor": 2
}
